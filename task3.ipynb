{
 "cells": [
  {
   "cell_type": "code",
   "execution_count": 2,
   "id": "683f17ea-bba7-4ecf-acfc-166cdb3d02f3",
   "metadata": {},
   "outputs": [
    {
     "name": "stdout",
     "output_type": "stream",
     "text": [
      "Accuracy: 0.3333333333333333\n",
      "Classification Report:\n",
      "              precision    recall  f1-score   support\n",
      "\n",
      "           0       0.00      0.00      0.00         0\n",
      "           1       1.00      0.33      0.50         3\n",
      "\n",
      "    accuracy                           0.33         3\n",
      "   macro avg       0.50      0.17      0.25         3\n",
      "weighted avg       1.00      0.33      0.50         3\n",
      "\n"
     ]
    }
   ],
   "source": [
    "import pandas as pd\n",
    "from sklearn.model_selection import train_test_split\n",
    "from sklearn.tree import DecisionTreeClassifier\n",
    "from sklearn.metrics import accuracy_score, classification_report\n",
    "\n",
    "# Create a synthetic dataset\n",
    "data = {\n",
    "    'age': [25, 45, 35, 50, 23, 40, 60, 29, 39, 49],\n",
    "    'gender': ['F', 'M', 'M', 'F', 'F', 'M', 'M', 'F', 'M', 'F'],\n",
    "    'income': [50000, 60000, 45000, 80000, 32000, 70000, 90000, 40000, 65000, 55000],\n",
    "    'previous_purchases': [1, 2, 1, 3, 0, 2, 4, 1, 3, 2],\n",
    "    'website_visits': [5, 12, 6, 20, 3, 8, 15, 4, 11, 7],\n",
    "    'purchased': [0, 1, 0, 1, 0, 1, 1, 0, 1, 0]  # 0 = No, 1 = Yes\n",
    "}\n",
    "\n",
    "df = pd.DataFrame(data)\n",
    "\n",
    "# Define features and target variable\n",
    "X = df[['age', 'gender', 'income', 'previous_purchases', 'website_visits']]\n",
    "y = df['purchased']\n",
    "\n",
    "# Encode categorical variables\n",
    "X = pd.get_dummies(X, columns=['gender'], drop_first=True)\n",
    "\n",
    "# Split the data into training and testing sets\n",
    "X_train, X_test, y_train, y_test = train_test_split(X, y, test_size=0.3, random_state=42)\n",
    "\n",
    "# Initialize and train the decision tree classifier\n",
    "clf = DecisionTreeClassifier()\n",
    "clf.fit(X_train, y_train)\n",
    "\n",
    "# Make predictions\n",
    "y_pred = clf.predict(X_test)\n",
    "\n",
    "# Evaluate the model\n",
    "accuracy = accuracy_score(y_test, y_pred)\n",
    "report = classification_report(y_test, y_pred, zero_division=0)\n",
    "\n",
    "print(f'Accuracy: {accuracy}')\n",
    "print(f'Classification Report:\\n{report}')\n"
   ]
  },
  {
   "cell_type": "code",
   "execution_count": null,
   "id": "373ae5db-62e7-4488-b5d1-c60b269d69e8",
   "metadata": {},
   "outputs": [],
   "source": []
  }
 ],
 "metadata": {
  "kernelspec": {
   "display_name": "Python 3 (ipykernel)",
   "language": "python",
   "name": "python3"
  },
  "language_info": {
   "codemirror_mode": {
    "name": "ipython",
    "version": 3
   },
   "file_extension": ".py",
   "mimetype": "text/x-python",
   "name": "python",
   "nbconvert_exporter": "python",
   "pygments_lexer": "ipython3",
   "version": "3.12.4"
  }
 },
 "nbformat": 4,
 "nbformat_minor": 5
}
